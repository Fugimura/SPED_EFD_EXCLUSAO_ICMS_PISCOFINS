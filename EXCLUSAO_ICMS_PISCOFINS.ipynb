{
 "cells": [
  {
   "cell_type": "code",
   "execution_count": 1,
   "metadata": {},
   "outputs": [],
   "source": [
    "#Importação das bibliotecas necessárias\n",
    "import pandas as pd\n",
    "import glob\n",
    "import datetime"
   ]
  },
  {
   "cell_type": "code",
   "execution_count": 2,
   "metadata": {},
   "outputs": [],
   "source": [
    "#Atribuindo a hora atual para variável a fim de avaliar ao final o tempo de execução\n",
    "hora_inicio = datetime.datetime.now()"
   ]
  },
  {
   "cell_type": "code",
   "execution_count": 3,
   "metadata": {},
   "outputs": [],
   "source": [
    "# Função para tratar informações de data dentro do SPED\n",
    "data = ''\n",
    "def FormatarData(variavel, num):\n",
    "    global data\n",
    "    data = variavel[num][:2] + '/' + variavel[num][2:4] + '/' + variavel[num][4:]\n",
    "    return data"
   ]
  },
  {
   "cell_type": "code",
   "execution_count": 4,
   "metadata": {},
   "outputs": [],
   "source": [
    "#Lista para armazenar as informações de todos os arquivos lidos\n",
    "listaArquivos = []\n",
    "#Lista para armazenar as informações de linha de cada arquivo\n",
    "listaLinhas = []"
   ]
  },
  {
   "cell_type": "code",
   "execution_count": 5,
   "metadata": {},
   "outputs": [],
   "source": [
    "#Usando o glob para ler todos os arquivos txt dentro da pasta referenciada\n",
    "path_efd = glob.glob('.\\data\\*.txt')\n",
    "\n",
    "#Mostrar todos os arquivos encontrados\n",
    "#print(path_efd)"
   ]
  },
  {
   "cell_type": "code",
   "execution_count": 6,
   "metadata": {},
   "outputs": [],
   "source": [
    "for i in path_efd:\n",
    "    listaLinhas = []\n",
    "    dictCabecalho = {}\n",
    "    dictLinha = {}\n",
    "\n",
    "    df = open(i,'r', encoding=\"Latin-1\")\n",
    "\n",
    "    for line in df:\n",
    "        if '|0000|' in line:\n",
    "            arq = line.split(\"|\")\n",
    "            dictCabecalho['TP_ESCRITURACAO'] = arq[3]\n",
    "            dictCabecalho['NUM_RECIBO'] = arq[5]\n",
    "            FormatarData(arq, 6)\n",
    "            dictCabecalho['DT_INI'] = data\n",
    "            FormatarData(arq, 7)\n",
    "            dictCabecalho['DT_FIN'] = data\n",
    "            dictCabecalho['EMPRESA'] = arq[8]\n",
    "            dictCabecalho['CNPJ'] = arq[9]\n",
    "\n",
    "        elif '|C100|' in line:\n",
    "            linha = line.split('|')\n",
    "\n",
    "            dictLinha['REG'] = linha[1]\n",
    "            dictLinha['IND_OPER'] = linha[2]\n",
    "            dictLinha['IND_EMIT'] = linha[3]\n",
    "            dictLinha['COD_PART'] = linha[4]\n",
    "            dictLinha['COD_MOD'] = linha[5]\n",
    "            dictLinha['COD_SIT'] = linha[6]\n",
    "            dictLinha['SER'] = linha[7]\n",
    "            dictLinha['NUM_DOC'] = linha[8]\n",
    "            dictLinha['CHV_NFE'] = linha[9]\n",
    "            FormatarData(linha,10)\n",
    "            dictLinha['DT_DOC'] = data\n",
    "            FormatarData(linha,11)\n",
    "            dictLinha['DT_E_S'] = data\n",
    "            dictLinha['VL_DOC'] = linha[12].replace('.','').replace(',','.')\n",
    "            dictLinha['IND_PGTO'] = linha[13]\n",
    "            dictLinha['VL_DESC'] = linha[14]\n",
    "            dictLinha['VL_ABAT_NT'] = linha[15]\n",
    "            dictLinha['VL_MERC'] = linha[16].replace('.','').replace(',','.')\n",
    "            dictLinha['IND_FRT'] = linha[17]\n",
    "            dictLinha['VL_FRT'] = linha[18]\n",
    "            dictLinha['VL_SEG'] = linha[19]\n",
    "            dictLinha['VL_OUT_DA'] = linha[20]\n",
    "            dictLinha['VL_BC_ICMS'] = linha[21].replace('.','').replace(',','.')\n",
    "            dictLinha['VL_ICMS'] = linha[22].replace('.','').replace(',','.')\n",
    "            dictLinha['VL_BC_ICMS_ST'] = linha[23]\n",
    "            dictLinha['VL_ICMS_ST'] = linha[24]\n",
    "            dictLinha['VL_IPI'] = linha[25]\n",
    "            dictLinha['VL_PIS'] = linha[26]\n",
    "            dictLinha['VL_COFINS'] = linha[27]\n",
    "            dictLinha['VL_PIS_ST'] = linha[28]\n",
    "            dictLinha['VL_COFINS_ST'] = linha[29]            \n",
    "            \n",
    "\n",
    "            listaLinhas.append(dictLinha)\n",
    "            dictLinha = {}\n",
    "\n",
    "        elif '|9001|' in line:\n",
    "            break\n",
    "\n",
    "    listaArquivos.append({'cabecalho': dictCabecalho, 'linhas': listaLinhas})"
   ]
  },
  {
   "cell_type": "code",
   "execution_count": 7,
   "metadata": {},
   "outputs": [],
   "source": [
    "#Utilização do normalize para alinhar as linhas (Bloco |C100|) com os cabeçalhos (Bloco |0000|)\n",
    "df = pd.json_normalize(listaArquivos, errors='ignore',record_path= 'linhas',\n",
    "meta=[\n",
    "['cabecalho','TP_ESCRITURACAO'],\n",
    "['cabecalho','NUM_RECIBO'],\n",
    "['cabecalho','DT_INI'],\n",
    "['cabecalho','DT_FIN'],\n",
    "['cabecalho','EMPRESA'],\n",
    "['cabecalho','CNPJ']])"
   ]
  },
  {
   "cell_type": "code",
   "execution_count": 8,
   "metadata": {},
   "outputs": [],
   "source": [
    "#Argumento para o pandas mostrar sempre todas as colunas do dataframe\n",
    "pd.set_option('display.max_columns', None)"
   ]
  },
  {
   "cell_type": "code",
   "execution_count": 9,
   "metadata": {},
   "outputs": [
    {
     "name": "stdout",
     "output_type": "stream",
     "text": [
      "<class 'pandas.core.frame.DataFrame'>\n",
      "RangeIndex: 9 entries, 0 to 8\n",
      "Data columns (total 35 columns):\n",
      " #   Column                     Non-Null Count  Dtype \n",
      "---  ------                     --------------  ----- \n",
      " 0   REG                        9 non-null      object\n",
      " 1   IND_OPER                   9 non-null      object\n",
      " 2   IND_EMIT                   9 non-null      object\n",
      " 3   COD_PART                   9 non-null      object\n",
      " 4   COD_MOD                    9 non-null      object\n",
      " 5   COD_SIT                    9 non-null      object\n",
      " 6   SER                        9 non-null      object\n",
      " 7   NUM_DOC                    9 non-null      object\n",
      " 8   CHV_NFE                    9 non-null      object\n",
      " 9   DT_DOC                     9 non-null      object\n",
      " 10  DT_E_S                     9 non-null      object\n",
      " 11  VL_DOC                     9 non-null      object\n",
      " 12  IND_PGTO                   9 non-null      object\n",
      " 13  VL_DESC                    9 non-null      object\n",
      " 14  VL_ABAT_NT                 9 non-null      object\n",
      " 15  VL_MERC                    9 non-null      object\n",
      " 16  IND_FRT                    9 non-null      object\n",
      " 17  VL_FRT                     9 non-null      object\n",
      " 18  VL_SEG                     9 non-null      object\n",
      " 19  VL_OUT_DA                  9 non-null      object\n",
      " 20  VL_BC_ICMS                 9 non-null      object\n",
      " 21  VL_ICMS                    9 non-null      object\n",
      " 22  VL_BC_ICMS_ST              9 non-null      object\n",
      " 23  VL_ICMS_ST                 9 non-null      object\n",
      " 24  VL_IPI                     9 non-null      object\n",
      " 25  VL_PIS                     9 non-null      object\n",
      " 26  VL_COFINS                  9 non-null      object\n",
      " 27  VL_PIS_ST                  9 non-null      object\n",
      " 28  VL_COFINS_ST               9 non-null      object\n",
      " 29  cabecalho.TP_ESCRITURACAO  9 non-null      object\n",
      " 30  cabecalho.NUM_RECIBO       9 non-null      object\n",
      " 31  cabecalho.DT_INI           9 non-null      object\n",
      " 32  cabecalho.DT_FIN           9 non-null      object\n",
      " 33  cabecalho.EMPRESA          9 non-null      object\n",
      " 34  cabecalho.CNPJ             9 non-null      object\n",
      "dtypes: object(35)\n",
      "memory usage: 2.6+ KB\n"
     ]
    }
   ],
   "source": [
    "#Retorna as informações de todo o dataframe gerado\n",
    "df.info()"
   ]
  },
  {
   "cell_type": "code",
   "execution_count": 10,
   "metadata": {},
   "outputs": [],
   "source": [
    "#Alterando o dtype das colunas selecionadas para númerico (float)\n",
    "df[[\"VL_MERC\",\"VL_BC_ICMS\",\"VL_ICMS\"]] = df[[\"VL_MERC\",\"VL_BC_ICMS\",\"VL_ICMS\"]].apply(pd.to_numeric)"
   ]
  },
  {
   "cell_type": "code",
   "execution_count": 11,
   "metadata": {},
   "outputs": [],
   "source": [
    "#Criar nova coluna com o valor da nova base de cálculo para PIS e COFINS\n",
    "df['NOVA_BC_PISCOFINS'] = df['VL_BC_ICMS'] - df['VL_ICMS']"
   ]
  },
  {
   "cell_type": "code",
   "execution_count": 12,
   "metadata": {},
   "outputs": [],
   "source": [
    "#Variável para armazenar a alíquota de PIS e COFINS somadas para o regime não cumulativo\n",
    "aliquota = 0.0925\n",
    "\n",
    "#Criar nova coluna com o novo valor a ser pago de PIS E COFINS\n",
    "df['NOVO_VALOR_PISCOFINS'] = (df['NOVA_BC_PISCOFINS'] * aliquota).round(decimals=2)"
   ]
  },
  {
   "cell_type": "code",
   "execution_count": 13,
   "metadata": {},
   "outputs": [],
   "source": [
    "#Mostrar o dataframe gerado\n",
    "#df"
   ]
  },
  {
   "cell_type": "code",
   "execution_count": 14,
   "metadata": {},
   "outputs": [],
   "source": [
    "#Salvar o dataframe em csv\n",
    "df.to_csv(r'.\\output\\result.csv', sep=';', encoding='utf-8', index=False)"
   ]
  },
  {
   "cell_type": "code",
   "execution_count": 15,
   "metadata": {},
   "outputs": [
    {
     "name": "stdout",
     "output_type": "stream",
     "text": [
      "Iniciou em 2021-05-24 21:53:17.329382\n",
      "Terminou em 2021-05-24 21:53:17.581584\n"
     ]
    }
   ],
   "source": [
    "print('Iniciou em {}'.format(hora_inicio))\n",
    "print('Terminou em {}'.format(datetime.datetime.now()))"
   ]
  }
 ],
 "metadata": {
  "kernelspec": {
   "display_name": "Python 3",
   "language": "python",
   "name": "python3"
  },
  "language_info": {
   "codemirror_mode": {
    "name": "ipython",
    "version": 3
   },
   "file_extension": ".py",
   "mimetype": "text/x-python",
   "name": "python",
   "nbconvert_exporter": "python",
   "pygments_lexer": "ipython3",
   "version": "3.8.5"
  }
 },
 "nbformat": 4,
 "nbformat_minor": 4
}
